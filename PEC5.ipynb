{
  "cells": [
    {
      "cell_type": "markdown",
      "metadata": {
        "id": "Y7e0d9E4TLC3"
      },
      "source": [
        "# Programación para la Bioinformática\n",
        "\n",
        "## Unidad 5: *Testing* y calidad del software\n",
        "\n",
        "## Etiquetas\n",
        "\n",
        "Bienvenidos a la PEC de la unidad 5. Bajo estas lineas encontrareis Ejercicios y preguntas cada uno de ellos tendrá una etiqueta que indica los recursos necesarios para resolverlos. Hay tres posibles etiquetas:\n",
        "\n",
        "\n",
        "* **<font color=\"green\" size=\"+2\">MU</font>** **Materiales unidad**: las herramientas necesarias para realizar la actividad se pueden encontrar en los materiales de la asignatura.\n",
        "\n",
        "* **<font color=\"blue\" size=\"+2\">EG</font>** **Consulta externa guiada**: la actividad puede requerir utilizar herramientas que no se encuentran en los materiales de la asignatura, pero el enunciado contiene indicaciones de como encontrar la información adicional necesaria.\n",
        "\n",
        "* **<font color=\"gold\" size=\"+2\">CI</font>** **Consulta externa independiente**: la actividad puede requerir utilizar herramientas que no se encuentran en los materiales de la asignatura, y el enunciado no incluye las indicaciones de como encontrar la información adicional. El estudiante deberá buscar esta información independientemente.)\n"
      ]
    },
    {
      "cell_type": "code",
      "source": [
        "!pip install ipytest\n",
        "import ipytest\n",
        "ipytest.autoconfig()"
      ],
      "metadata": {
        "id": "FgycEgmOZ_9B",
        "colab": {
          "base_uri": "https://localhost:8080/"
        },
        "outputId": "a1ede309-c732-464b-ad20-177ecd38db90"
      },
      "execution_count": 1,
      "outputs": [
        {
          "output_type": "stream",
          "name": "stdout",
          "text": [
            "Collecting ipytest\n",
            "  Downloading ipytest-0.14.2-py3-none-any.whl (18 kB)\n",
            "Requirement already satisfied: ipython in /usr/local/lib/python3.10/dist-packages (from ipytest) (7.34.0)\n",
            "Requirement already satisfied: packaging in /usr/local/lib/python3.10/dist-packages (from ipytest) (24.1)\n",
            "Requirement already satisfied: pytest>=5.4 in /usr/local/lib/python3.10/dist-packages (from ipytest) (7.4.4)\n",
            "Requirement already satisfied: iniconfig in /usr/local/lib/python3.10/dist-packages (from pytest>=5.4->ipytest) (2.0.0)\n",
            "Requirement already satisfied: pluggy<2.0,>=0.12 in /usr/local/lib/python3.10/dist-packages (from pytest>=5.4->ipytest) (1.5.0)\n",
            "Requirement already satisfied: exceptiongroup>=1.0.0rc8 in /usr/local/lib/python3.10/dist-packages (from pytest>=5.4->ipytest) (1.2.1)\n",
            "Requirement already satisfied: tomli>=1.0.0 in /usr/local/lib/python3.10/dist-packages (from pytest>=5.4->ipytest) (2.0.1)\n",
            "Requirement already satisfied: setuptools>=18.5 in /usr/local/lib/python3.10/dist-packages (from ipython->ipytest) (67.7.2)\n",
            "Collecting jedi>=0.16 (from ipython->ipytest)\n",
            "  Downloading jedi-0.19.1-py2.py3-none-any.whl (1.6 MB)\n",
            "\u001b[2K     \u001b[90m━━━━━━━━━━━━━━━━━━━━━━━━━━━━━━━━━━━━━━━━\u001b[0m \u001b[32m1.6/1.6 MB\u001b[0m \u001b[31m10.4 MB/s\u001b[0m eta \u001b[36m0:00:00\u001b[0m\n",
            "\u001b[?25hRequirement already satisfied: decorator in /usr/local/lib/python3.10/dist-packages (from ipython->ipytest) (4.4.2)\n",
            "Requirement already satisfied: pickleshare in /usr/local/lib/python3.10/dist-packages (from ipython->ipytest) (0.7.5)\n",
            "Requirement already satisfied: traitlets>=4.2 in /usr/local/lib/python3.10/dist-packages (from ipython->ipytest) (5.7.1)\n",
            "Requirement already satisfied: prompt-toolkit!=3.0.0,!=3.0.1,<3.1.0,>=2.0.0 in /usr/local/lib/python3.10/dist-packages (from ipython->ipytest) (3.0.47)\n",
            "Requirement already satisfied: pygments in /usr/local/lib/python3.10/dist-packages (from ipython->ipytest) (2.16.1)\n",
            "Requirement already satisfied: backcall in /usr/local/lib/python3.10/dist-packages (from ipython->ipytest) (0.2.0)\n",
            "Requirement already satisfied: matplotlib-inline in /usr/local/lib/python3.10/dist-packages (from ipython->ipytest) (0.1.7)\n",
            "Requirement already satisfied: pexpect>4.3 in /usr/local/lib/python3.10/dist-packages (from ipython->ipytest) (4.9.0)\n",
            "Requirement already satisfied: parso<0.9.0,>=0.8.3 in /usr/local/lib/python3.10/dist-packages (from jedi>=0.16->ipython->ipytest) (0.8.4)\n",
            "Requirement already satisfied: ptyprocess>=0.5 in /usr/local/lib/python3.10/dist-packages (from pexpect>4.3->ipython->ipytest) (0.7.0)\n",
            "Requirement already satisfied: wcwidth in /usr/local/lib/python3.10/dist-packages (from prompt-toolkit!=3.0.0,!=3.0.1,<3.1.0,>=2.0.0->ipython->ipytest) (0.2.13)\n",
            "Installing collected packages: jedi, ipytest\n",
            "Successfully installed ipytest-0.14.2 jedi-0.19.1\n"
          ]
        }
      ]
    },
    {
      "cell_type": "markdown",
      "metadata": {
        "id": "AUa7KKKCbCgg"
      },
      "source": [
        "Ejercicios y preguntas teóricas\n",
        "-------------------------------\n",
        "\n",
        "A continuación, encontraréis la parte que tenéis que completar en este módulo y las preguntas teóricas a contestar dentro de la sección **ejercicios evaluables**.\n",
        "\n",
        "Además de estos ejercicios, teneís otros dentro de la sección **ejercicios de entrenamiento**. Estos ejercicios no cuentan para la nota de la PEC pero su realización es obligatoria. Si entregáis los evaluables completados pero estos en blanco, tendréis una penalización en la nota final. La finalidad de estos ejercicios es que practiquéis. A diferencia de los evaluables, los ejercicios ejemplo podéis discutirlos en el foro entre vosotros pegando código, etc. Sin limitaciones. Sobre los evaluables también podéis preguntar pero sin compartir código ni dar \"pistas\" sobre como resolverlos a los compañeros.\n"
      ]
    },
    {
      "cell_type": "markdown",
      "source": [
        "###**Ejercicios Entrenamiento**"
      ],
      "metadata": {
        "id": "VmDUu2Nrbeqj"
      }
    },
    {
      "cell_type": "markdown",
      "source": [
        "\n",
        "### Ejercicio entrenamiento 1 ###\n",
        "Dada la siguiente función que calcula la suma de cuadrados, escribe el código necesario para realizar pruebas de código usando doctest.\n",
        "\n",
        "La suma de cuadrados se refiere a dado un numero n sumar todos los cuadrados hasta llegar a él, es decir, si n=3 la suma de cuadros sera $1^{2} + 2^{2} + 3^{2}$, $1+4+9$, =14`\n",
        "\n",
        "\n"
      ],
      "metadata": {
        "id": "rSImFw9truad"
      }
    },
    {
      "cell_type": "code",
      "source": [
        "def sum_of_squares(n):\n",
        "    \"\"\"Calcula la suma de los cuadrados hasta n.\n",
        "\n",
        "    Test con número entero positivo:\n",
        "    >>> sum_of_squares(2)\n",
        "    5\n",
        "\n",
        "    Test con número entero negativo:\n",
        "    >>> sum_of_squares(-2)\n",
        "    Traceback (most recent call last):\n",
        "        ...\n",
        "    ValueError: n debe ser >= 0\n",
        "\n",
        "    Test valor cero:\n",
        "    >>> sum_of_squares(0)\n",
        "    0\n",
        "\n",
        "    Test con número con decimales:\n",
        "    >>> sum_of_squares(0.5)\n",
        "    Traceback (most recent call last):\n",
        "        ...\n",
        "    TypeError: 'float' object cannot be interpreted as an integer\n",
        "\n",
        "    Test con variable no definida:\n",
        "    >>> sum_of_squares(hola)\n",
        "    Traceback (most recent call last):\n",
        "        ...\n",
        "    NameError: name 'hola' is not defined\n",
        "\n",
        "    Test con string:\n",
        "    >>> sum_of_squares(\"hola\")\n",
        "    Traceback (most recent call last):\n",
        "        ...\n",
        "    TypeError: '>=' not supported between instances of 'str' and 'int'\n",
        "\n",
        "    Test con suma de enteros:\n",
        "    >>> sum_of_squares(2 + 2)\n",
        "    30\n",
        "\n",
        "    \"\"\"\n",
        "\n",
        "    if not n >= 0:\n",
        "        raise ValueError(\"n debe ser >= 0\")\n",
        "\n",
        "    result = 0\n",
        "    for i in range(n + 1):\n",
        "        result += i ** 2\n",
        "\n",
        "    return result\n",
        "\n",
        "if __name__ == \"__main__\":\n",
        "    import doctest\n",
        "    doctest.run_docstring_examples(sum_of_squares, globals(), verbose=True)\n"
      ],
      "metadata": {
        "id": "pi9SPivArua3",
        "colab": {
          "base_uri": "https://localhost:8080/"
        },
        "outputId": "a45b9064-e92e-4ed1-c5c5-5c18ee759660"
      },
      "execution_count": 3,
      "outputs": [
        {
          "output_type": "stream",
          "name": "stderr",
          "text": [
            "\n",
            "PYDEV DEBUGGER WARNING:\n",
            "sys.settrace() should not be used when the debugger is being used.\n",
            "This may cause the debugger to stop working correctly.\n",
            "If this is needed, please check: \n",
            "http://pydev.blogspot.com/2007/06/why-cant-pydev-debugger-work-with.html\n",
            "to see how to restore the debug tracing back correctly.\n",
            "Call Location:\n",
            "  File \"/usr/lib/python3.10/doctest.py\", line 1501, in run\n",
            "    sys.settrace(save_trace)\n",
            "\n"
          ]
        },
        {
          "output_type": "stream",
          "name": "stdout",
          "text": [
            "Finding tests in NoName\n",
            "Trying:\n",
            "    sum_of_squares(2)\n",
            "Expecting:\n",
            "    5\n",
            "ok\n",
            "Trying:\n",
            "    sum_of_squares(-2)\n",
            "Expecting:\n",
            "    Traceback (most recent call last):\n",
            "        ...\n",
            "    ValueError: n debe ser >= 0\n",
            "ok\n",
            "Trying:\n",
            "    sum_of_squares(0)\n",
            "Expecting:\n",
            "    0\n",
            "ok\n",
            "Trying:\n",
            "    sum_of_squares(0.5)\n",
            "Expecting:\n",
            "    Traceback (most recent call last):\n",
            "        ...\n",
            "    TypeError: 'float' object cannot be interpreted as an integer\n",
            "ok\n",
            "Trying:\n",
            "    sum_of_squares(hola)\n",
            "Expecting:\n",
            "    Traceback (most recent call last):\n",
            "        ...\n",
            "    NameError: name 'hola' is not defined\n",
            "ok\n",
            "Trying:\n",
            "    sum_of_squares(\"hola\")\n",
            "Expecting:\n",
            "    Traceback (most recent call last):\n",
            "        ...\n",
            "    TypeError: '>=' not supported between instances of 'str' and 'int'\n",
            "ok\n",
            "Trying:\n",
            "    sum_of_squares(2 + 2)\n",
            "Expecting:\n",
            "    30\n",
            "ok\n"
          ]
        }
      ]
    },
    {
      "cell_type": "markdown",
      "source": [
        "### Ejercicio entrenamiento 2:\n",
        "\n",
        "Dada la función complementaria_inversa (dna_secuencia) que devuelve la complementaria inversa de una secuencia de ADN dada, escribe tests unitarios utilizando unittest. Los test deben verificar si la función produce los resultados esperados para diferentes secuencias de ADN.\n",
        "\n",
        "Recuerda tener en cuenta casos especiales y asegurarte de que la función maneje correctamente cualquier secuencia de ADN proporcionada.\n",
        "\n",
        "La función debe seguir los pasos adecuados para encontrar el complemento inverso de la secuencia de ADN, teniendo en cuenta las bases complementarias (A-T, C-G) y el orden inverso de la secuencia.\n",
        "\n",
        "Referencia:\n",
        "\n",
        "    - Complementary DNA Strands:\n",
        "    \n",
        "    https://www.wikihow.life/Find-the-Reverse-Complement-of-a-DNA-Sequence#:~:text=Trace%20through%20the%20sequence%20backwards,last%20nucleotide%20in%20the%20sequence.&text=As%20you%20pass%20over%20each,hand%20side%20of%20the%20page.\n",
        "    "
      ],
      "metadata": {
        "id": "go875GQKsoej"
      }
    },
    {
      "cell_type": "code",
      "source": [
        "# Importar librerias requeridas\n",
        "import unittest\n",
        "import sys\n",
        "\n",
        "def complementaria_inversa(dna_seq):\n",
        "    \"\"\"\n",
        "    Encuentra la complementaria inversa de una secuencia DNA.\n",
        "\n",
        "    Parametros:\n",
        "    - dna_secuencia (str): Entrada DNA.\n",
        "\n",
        "    Return:\n",
        "    - str: Complementaria inversa del DNA.\n",
        "\n",
        "    Referencia:\n",
        "    - Complementary DNA Strands:https://www.wikihow.life/Find-the-Reverse-Complement-of-a-DNA-Sequence#:~:text=Trace%20through%20the%20sequence%20backwards,last%20nucleotide%20in%20the%20sequence.&text=As%20you%20pass%20over%20each,hand%20side%20of%20the%20page.\n",
        "    \"\"\"\n",
        "    complement = {\"A\": \"T\", \"T\": \"A\", \"C\": \"G\", \"G\": \"C\"}\n",
        "    reverse_dna = dna_seq[::-1]\n",
        "    complementaria_inversa = \"\".join(complement[base] for base in reverse_dna)\n",
        "    return complementaria_inversa\n",
        "\n",
        "# Tests\n",
        "class TestEjercicio2(unittest.TestCase):\n",
        "\n",
        "    # Test con cadenas ADN de distintas longitudes\n",
        "    def test_reverse_complement(self):\n",
        "        # assertEqual comprueba que el resultado de la función es el indicado\n",
        "        self.assertEqual(complementaria_inversa('ATCG'), 'CGAT')\n",
        "        self.assertEqual(complementaria_inversa('A'), 'T')\n",
        "        self.assertEqual(complementaria_inversa('ATATATAT'), 'ATATATAT')\n",
        "\n",
        "    # Test para probar una string vacía\n",
        "    def test_empty_string(self):\n",
        "        self.assertEqual(complementaria_inversa(''), '')\n",
        "\n",
        "    # Test para probar strings con caracteres inválidos\n",
        "    def test_invalid_character(self):\n",
        "        # assertRaises comprueba que se lanza una excepción\n",
        "        with self.assertRaises(KeyError):\n",
        "            complementaria_inversa('H')\n",
        "        with self.assertRaises(KeyError):\n",
        "            complementaria_inversa('ATCG:')\n",
        "\n",
        "    # Test para probar strings con letras en minúscula\n",
        "    def test_lowercase_input(self):\n",
        "        with self.assertRaises(KeyError):\n",
        "            complementaria_inversa('atttcg')\n",
        "        with self.assertRaises(KeyError):\n",
        "            complementaria_inversa('AtgTc')\n",
        "\n",
        "if __name__ == '__main__':\n",
        "    suite = unittest.TestLoader().loadTestsFromTestCase( TestEjercicio2 )\n",
        "    unittest.TextTestRunner(verbosity=1,stream=sys.stderr).run( suite )"
      ],
      "metadata": {
        "id": "LlQQyJM5BBLD",
        "colab": {
          "base_uri": "https://localhost:8080/"
        },
        "outputId": "5b8efdb8-fe3f-4156-c79e-87adfdb9f738"
      },
      "execution_count": 2,
      "outputs": [
        {
          "output_type": "stream",
          "name": "stderr",
          "text": [
            "....\n",
            "----------------------------------------------------------------------\n",
            "Ran 4 tests in 0.014s\n",
            "\n",
            "OK\n"
          ]
        }
      ]
    },
    {
      "cell_type": "markdown",
      "metadata": {
        "id": "CxNgrfPuQoQC"
      },
      "source": [
        "### Ejercicio entrenamiento 3\n",
        "**Hablamos de tests en verde cuando todos nuestros tests se ejecutan correctamente y dan el resultado esperado y tests en rojo en caso contrario.**\n",
        "\n",
        "En el siguiente ejercicio, escribe el código necesario que haga cumplir todos los tests, es decir, que los tests estén *en verde* **sin modificar en ningún momento la parte correspondiente al código de los tests** (`class TestMonster`)."
      ]
    },
    {
      "cell_type": "code",
      "execution_count": 4,
      "metadata": {
        "id": "S8jVl-apRDa_",
        "colab": {
          "base_uri": "https://localhost:8080/"
        },
        "outputId": "a00bffa8-4a0a-4ee0-b4e7-9ee5378882e1"
      },
      "outputs": [
        {
          "output_type": "stream",
          "name": "stderr",
          "text": [
            ".....\n",
            "----------------------------------------------------------------------\n",
            "Ran 5 tests in 0.018s\n",
            "\n",
            "OK\n"
          ]
        }
      ],
      "source": [
        "import unittest\n",
        "import sys\n",
        "\n",
        "class Monster:\n",
        "    \"\"\"A cute monster\"\"\"\n",
        "\n",
        "    def __init__(self, name, size, basic_type='fire'):\n",
        "        \"\"\"Creates a new monster\"\"\"\n",
        "        self.name = name\n",
        "        self.size = size\n",
        "        self.basic_type = basic_type.lower()\n",
        "\n",
        "    def fight(self, monster2):\n",
        "        \"\"\"Two monsters fight each other. Returns the name of the monster winning\n",
        "        or 'draw' otherwise.\n",
        "\n",
        "        Monster battles have very specific rules:\n",
        "        - Water wins over Fire\n",
        "        - Electrical wins over Water\n",
        "        - Plant wins over Electrical\n",
        "        - Fire wins over Plant\n",
        "\n",
        "        if both monsters fighting have the same type, bigger monster wins!\n",
        "        if both monsters fighting have the same type and size, it's a draw\n",
        "\n",
        "        Any other combination, it's a draw\n",
        "        \"\"\"\n",
        "\n",
        "        # Definimos un diccionario con reglas de batalla\n",
        "        # El valor indica el tipo que pierde contra el tipo de la clave del diccionario\n",
        "        dict_batalla = {'water': 'fire', 'electrical': 'water', 'plant': 'electrical', 'fire': 'plant'}\n",
        "\n",
        "        # Comprobamos si el tipo de los monstruos es el mismo\n",
        "        if self.basic_type == monster2.basic_type:\n",
        "\n",
        "            # Comprobamos si el tamaño del primer monstruo es mayor que el del segundo\n",
        "            if self.size > monster2.size:\n",
        "\n",
        "                # Si es así, devolvemos nombre del primer monstruo\n",
        "                return self.name\n",
        "\n",
        "            # En caso contrario, devolvemos nombre del segundo monstruo\n",
        "            elif self.size < monster2.size:\n",
        "                return monster2.name\n",
        "\n",
        "            # Si los tamaños son iguales, devolvemos 'draw'\n",
        "            return 'draw'\n",
        "\n",
        "        # Si los tipos son distintos y coinciden con alguna combinación del diccionario,\n",
        "        # devolvemos nombre del primer monstruo\n",
        "        elif dict_batalla[self.basic_type] == monster2.basic_type:\n",
        "            return self.name\n",
        "\n",
        "        # En el resto de combinaciones, devolvemos 'draw'\n",
        "        else:\n",
        "            return 'draw'\n",
        "\n",
        "# Tests\n",
        "class TestMonster(unittest.TestCase):\n",
        "\n",
        "    def test_create_a_new_monster(self):\n",
        "        # Create a monster\n",
        "        pika = Monster(\"Pika\", 10, \"electrical\")\n",
        "\n",
        "        # Test if it is not none\n",
        "        self.assertIsNotNone(pika)\n",
        "\n",
        "        # Test if attributes have been set properly\n",
        "        self.assertEqual(\"Pika\", pika.name)\n",
        "        self.assertEqual(10, pika.size)\n",
        "        self.assertEqual(\"electrical\", pika.basic_type)\n",
        "\n",
        "    def test_fight_water_fire(self):\n",
        "        \"\"\"Test which monsters wins in a water vs fire fight\"\"\"\n",
        "        squirtle = Monster(\"Squirtle\", 10, \"water\")\n",
        "        char = Monster(\"Char\", 10, \"fire\")\n",
        "\n",
        "        self.assertEqual(\"Squirtle\", squirtle.fight(char))\n",
        "\n",
        "    def test_fight_fire_plant(self):\n",
        "        \"\"\"Test which monsters wins in a plant vs fire fight\"\"\"\n",
        "        char = Monster(\"Char\", 10, \"fire\")\n",
        "        bulb = Monster(\"Bulb\", 15, \"plant\")\n",
        "\n",
        "        self.assertEqual(\"Char\", char.fight(bulb))\n",
        "\n",
        "    def test_electrical_electrical_same_size(self):\n",
        "        \"\"\"Test which monsters wins if both have same type and size\"\"\"\n",
        "        pika = Monster(\"Pika\", 10, \"electrical\")\n",
        "        pichu = Monster(\"Pichu\", 10, \"electrical\")\n",
        "\n",
        "        self.assertEqual(\"draw\", pika.fight(pichu))\n",
        "\n",
        "    def test_electrical_electrical_different_size(self):\n",
        "        \"\"\"Test which monsters wins if both have same type but different size\"\"\"\n",
        "        pika = Monster(\"Pika\", 10, \"electrical\")\n",
        "        pichu = Monster(\"Pichu\", 9, \"electrical\")\n",
        "\n",
        "        self.assertEqual(\"Pika\", pika.fight(pichu))\n",
        "\n",
        "if __name__ == '__main__':\n",
        "    suite = unittest.TestLoader().loadTestsFromTestCase(TestMonster)\n",
        "    unittest.TextTestRunner(verbosity=1,stream=sys.stderr).run(suite)"
      ]
    },
    {
      "cell_type": "markdown",
      "source": [
        "###**Ejercicios evaluables**"
      ],
      "metadata": {
        "id": "UN7nqq9NbeWe"
      }
    },
    {
      "cell_type": "markdown",
      "source": [
        "### Pregunta téorica 1**<font color=\"green\" size=\"+2\">MU</font>**\n",
        "\n",
        "Explica con tus propias palabras a) porque es importante testear el código que escribimos y b) explica que son los tests unitarios."
      ],
      "metadata": {
        "id": "2rqTMtm399ZY"
      }
    },
    {
      "cell_type": "markdown",
      "metadata": {
        "id": "GA6zzoVLH2Rk"
      },
      "source": [
        "a) Los tests nos permiten detectar errores en el código y comprobar que realizan la funcionalidad que queremos, incluso después de realizar cambios, por lo que nos facilitan el mantenimiento y la evolución del código. A su vez, nos ayudan a que el código esté mejor estructurado, sobre todo si empleamos una metodología de desarrollo dirigida por tests (TDD), ya que nos enfocamos en la funcionalidad de cada unidad.\n",
        "\n",
        "b) Los tests unitarios son una metodología de pruebas de software en las que se verifica la funcionalidad a nivel individual e independiente del resto del sistema de cada unidad de código, las cuales suelen ser funciones o métodos."
      ]
    },
    {
      "cell_type": "markdown",
      "metadata": {
        "id": "Rt0BULe1TLC5"
      },
      "source": [
        "### Pregunta téorica 2**<font color=\"blue\" size=\"+2\">EG</font>**\n",
        "\n",
        "Explica en qué consiste la Programacion orientada a objetos (POO) y cual es la diferencia entre clases e instancias. No olvides citar tus fuentes:"
      ]
    },
    {
      "cell_type": "markdown",
      "source": [
        "La Programación orientada a objetos es una metodología que ofrece una forma de estructurar los programas bastante parecida a como pensamos en la vida real, a través de la creación de clases.\n",
        "\n",
        "Las clases son estructuras de datos que actúan como una plantilla para definir un conjunto de atributos (propiedades) y métodos (operaciones que se pueden realizar o comportamiento), que describen una instancia u objeto.\n",
        "\n",
        "La instancia u objeto es la realización o concreción de esta plantilla. Este objeto contiene un estado, definido por los valores de sus atributos, y un comportamiento, dado por los métodos que nos permiten interactuar con el objeto. Cuando creamos un objeto de una clase, estamos instanciando dicha clase, es decir, estamos creando una copia de la plantilla de la clase con unos atributos y métodos específicos.\n",
        "\n",
        "**Fuentes:**\n",
        "\n",
        "*   Python Software Foundation (2024). *Python 3.12.4 Documentation, The Python Tutorial, Classes*. https://docs.python.org/3/tutorial/classes.html\n",
        "*   Real Python (2023). *Object-Oriented Programming (OOP) in Python 3.* https://realpython.com/python3-object-oriented-programming/#classes-vs-instances\n"
      ],
      "metadata": {
        "id": "22lyukGUcUuI"
      }
    },
    {
      "cell_type": "markdown",
      "metadata": {
        "id": "6VGcbp_KTLC-"
      },
      "source": [
        "### Pregunta téorica 3 **<font color=\"gold\" size=\"+2\">CI</font>**\n",
        "\n",
        "Aunque nos hemos centrado en los tests unitarios, hemos comentado que existen otros tipos de tests. Enumera **al menos dos otros tipos de tests** y explica en tus propias palabras qué uso tienen y en qué consisten. No olvides citar tus fuentes."
      ]
    },
    {
      "cell_type": "markdown",
      "metadata": {
        "id": "XaJgOV9LTLC_"
      },
      "source": [
        "Además de los tests unitarios, existen otros tipos de tests, como las pruebas de integración, pruebas funcionales, pruebas de rendimiento, etc.\n",
        "\n",
        "**Tests de integración.** Se basan en la verificación de las interacciones entre los distintos módulos o servicios del código para asegurar el correcto funcionamiento en conjunto. Estos tests son importantes ya que, a veces, los módulos necesitan conectarse a bases de datos o servicios externos, es decir, tienen dependencias externas. Suelen ser el paso siguiente a los tests unitarios.\n",
        "\n",
        "**Tests funcionales.** Se basan en los requisitos comerciales de la aplicación, verificando únicamente el resultado y no los pasos intermedios. Se comprueba, por tanto, la funcionalidad y la usabilidad. Se diferencian de los tests de integración en que estos verifican, por ejemplo, que la conexión con la base de datos se ha producido correctamente, mientras que los tests funcionales, comprueban que se está recuperando el valor esperado de la base de datos y de acuerdo a los requisitos de negocio.\n",
        "\n",
        "**Tests de rendimiento.** Verifican cómo se comporta la aplicación cuando se realiza un número alto de consultas al servidor o se recibe una gran cantidad de datos. Son un tipo de pruebas no funcionales, ya que no se basan en una interacción o un resultado correcto, sino en métricas de velocidad y en determinar la estabilidad y escalabilidad del sistema.\n",
        "\n",
        "**Fuentes:**\n",
        "\n",
        "*   Hamilton, T. [Tomas]. (2024). Prueba unitaria versus prueba de integración: diferencia entre ellas. *Guru99*. https://www.guru99.com/es/unit-test-vs-integration-test.html\n",
        "*   LoadView de Dotcom (2023). *Tipos de pruebas de software: diferencias y ejemplos.* https://www.loadview-testing.com/es/blog/tipos-de-pruebas-de-software-diferencias-y-ejemplos/\n",
        "*   Programación y más (fecha desconocida). *Los diferentes tipos de testing en el desarrollo de software.* https://programacionymas.com/blog/tipos-de-testing-en-desarrollo-de-software\n",
        "\n"
      ]
    },
    {
      "cell_type": "markdown",
      "metadata": {
        "id": "AuAexfz4TLDA"
      },
      "source": [
        "### Pregunta teórica 4 **<font color=\"gold\" size=\"+2\">CI</font>**\n",
        "\n",
        "¿Es posible hacer pruebas cuando utilizamos y capturamos objetos *Exception* en nuestro código? Si es así, explica cómo y pon **como mínimo 2 ejemplos que se puedan ejecutar (uno de los test debe incluir un control negativo y un control positivo)**:"
      ]
    },
    {
      "cell_type": "markdown",
      "source": [
        "Sí, es posible capturar las excepciones en nuestro código realizando pruebas unitarias, con aserciones como 'assertRaises', que verifican si se lanza una excepción cuando se ejecuta cierta parte del código. Cuando realizamos un control positivo, esperamos que se lance una excepción al ejecutar el código y esperamos poder capturar dicha excepción. Cuando realizamos un control negativo, sin embargo, esperamos que la función proporcione el resultado esperado y no se lance ninguna excepción."
      ],
      "metadata": {
        "id": "VB0eTOKQLEc5"
      }
    },
    {
      "cell_type": "code",
      "source": [
        "# Primer ejemplo:\n",
        "\n",
        "import unittest\n",
        "import sys\n",
        "\n",
        "# Función que realiza la división entre dos números\n",
        "def division(a, b):\n",
        "\n",
        "    # Si el denominador es 0, se devuelve la excepción ValueError\n",
        "    if b == 0:\n",
        "        raise ValueError(\"No es posible dividir entre cero.\")\n",
        "\n",
        "    # Se devuelve el resultado de la división\n",
        "    return a / b\n",
        "\n",
        "# Tests\n",
        "class TestDivision(unittest.TestCase):\n",
        "\n",
        "    # Ejemplo control positivo\n",
        "    # Si dividimos por 0, esperamos que se lance la excepción ValueError\n",
        "    def test_division_cero(self):\n",
        "\n",
        "        # assertRaises comprueba que se lanza la excepción\n",
        "        with self.assertRaises(ValueError):\n",
        "            division(5, 0)\n",
        "\n",
        "    # Ejemplo control negativo\n",
        "    # Si realizamos una división entre dos números, esperamos que se devuelva el resultado\n",
        "    def test_division_normal(self):\n",
        "        resultado = division(5, 2)\n",
        "\n",
        "        # assertEqual comprueba que los argumentos son iguales\n",
        "        self.assertEqual(resultado, 2.5)\n",
        "\n",
        "if __name__ == '__main__':\n",
        "    suite = unittest.TestLoader().loadTestsFromTestCase(TestDivision)\n",
        "    unittest.TextTestRunner(verbosity=1,stream=sys.stderr).run(suite)"
      ],
      "metadata": {
        "id": "Lggc-YiZTo2e",
        "colab": {
          "base_uri": "https://localhost:8080/"
        },
        "outputId": "e430be3f-d1c4-42f0-cdcd-bf6058b9b1fa"
      },
      "execution_count": 5,
      "outputs": [
        {
          "output_type": "stream",
          "name": "stderr",
          "text": [
            "..\n",
            "----------------------------------------------------------------------\n",
            "Ran 2 tests in 0.006s\n",
            "\n",
            "OK\n"
          ]
        }
      ]
    },
    {
      "cell_type": "code",
      "source": [
        "# Segundo ejemplo:\n",
        "\n",
        "import unittest\n",
        "import sys\n",
        "\n",
        "# Función que comprueba si la contraseña es correcta\n",
        "def comprobar_contraseña(input):\n",
        "\n",
        "    # Si la contraseña no es una string, se lanza una excepción TypeError\n",
        "    if not isinstance(input, str):\n",
        "        raise TypeError(\"El input debe ser una cadena de caracteres.\")\n",
        "\n",
        "    # Si existe algún caracter especial y tiene entre 8 y 20 caracteres, se acepta\n",
        "    elif any(not x.isalnum() for x in input) and 7 < len(input) < 21:\n",
        "            return \"Contraseña aceptada\"\n",
        "\n",
        "    # Si no, se devuelve que no se acepta la contraseña\n",
        "    else:\n",
        "        return \"Contraseña no aceptada\"\n",
        "\n",
        "# Tests\n",
        "class TestComprobarContraseña(unittest.TestCase):\n",
        "\n",
        "    # Ejemplo control positivo\n",
        "    # Comprobamos que, si proporcionamos un número, se lanza la excepción TypeError\n",
        "    def test_input_numero(self):\n",
        "        with self.assertRaises(TypeError):\n",
        "            comprobar_contraseña(123456789)\n",
        "\n",
        "    # Ejemplo control negativo\n",
        "    # Comprobamos que, cuando damos una contraseña adecuada, se acepta\n",
        "    def test_input_string(self):\n",
        "        resultado = comprobar_contraseña(\"Contraseña1!\")\n",
        "\n",
        "        self.assertEqual(resultado, \"Contraseña aceptada\")\n",
        "\n",
        "if __name__ == '__main__':\n",
        "    suite = unittest.TestLoader().loadTestsFromTestCase(TestComprobarContraseña)\n",
        "    unittest.TextTestRunner(verbosity=1,stream=sys.stderr).run(suite)\n"
      ],
      "metadata": {
        "id": "JhW4p9NxLPgn",
        "colab": {
          "base_uri": "https://localhost:8080/"
        },
        "outputId": "83d0399a-2915-4c82-d8f8-a94798cd273c"
      },
      "execution_count": 6,
      "outputs": [
        {
          "output_type": "stream",
          "name": "stderr",
          "text": [
            "..\n",
            "----------------------------------------------------------------------\n",
            "Ran 2 tests in 0.007s\n",
            "\n",
            "OK\n"
          ]
        }
      ]
    },
    {
      "cell_type": "markdown",
      "source": [
        "### Pregunta teórica 5 **<font color=\"green\" size=\"+2\">MU</font>**\n",
        "\n",
        "¿Como se hereda una clase a partir de otra clase en Python?\n",
        "\n",
        "Explicalo dando un ejemplo con clases llamadas \"animal\" y \"perro\""
      ],
      "metadata": {
        "id": "lbUaQSszTrKo"
      }
    },
    {
      "cell_type": "markdown",
      "source": [
        "```\n",
        "# Respuesta\n",
        "```\n",
        "\n",
        "La herencia en Programación Orientada a Objetos se refiere a transferir los métodos y atributos de una clase padre (superclase) a una clase hija (subclase). Una clase puede heredar de otra pasando dicha clase como parámetro. En el siguiente ejemplo, ilustramos como el método 'hacer_sonido' se hereda de la superclase Animal a la subclase Perro.\n"
      ],
      "metadata": {
        "id": "1ozNUcLwUF6i"
      }
    },
    {
      "cell_type": "code",
      "source": [
        "# Definimos la clase Animal\n",
        "class Animal():\n",
        "\n",
        "    # Método constructor para inicializar objetos\n",
        "    def __init__(self, nombre):\n",
        "        self.nombre = nombre\n",
        "\n",
        "    # Función que devuelve sonido de perro\n",
        "    def hacer_sonido(self):\n",
        "        return \"Guau!\"\n",
        "\n",
        "# Definimos la clase Perro\n",
        "class Perro(Animal):\n",
        "\n",
        "    # Método constructor que inicializa un objeto de la superclase\n",
        "    def __init__(self, nombre, raza):\n",
        "        super().__init__(nombre)\n",
        "        self.raza = raza\n",
        "\n",
        "# Creamos un objeto de la clase Perro\n",
        "perro1 = Perro(\"Toby\", \"Labrador\")\n",
        "\n",
        "# Utilizamos el método heredado de la clase Animal\n",
        "perro1.hacer_sonido()\n"
      ],
      "metadata": {
        "colab": {
          "base_uri": "https://localhost:8080/",
          "height": 35
        },
        "id": "i-pkAHkSgiA9",
        "outputId": "a53910c4-b8e5-4fef-eeae-2214e5c13ccd"
      },
      "execution_count": null,
      "outputs": [
        {
          "output_type": "execute_result",
          "data": {
            "text/plain": [
              "'Guau!'"
            ],
            "application/vnd.google.colaboratory.intrinsic+json": {
              "type": "string"
            }
          },
          "metadata": {},
          "execution_count": 64
        }
      ]
    },
    {
      "cell_type": "markdown",
      "metadata": {
        "id": "qR0bGWQCTLC8"
      },
      "source": [
        "### Pregunta téorica 6 **<font color=\"gold\" size=\"+2\">CI</font>**\n",
        "\n",
        "Explica en tus propias palabras el concepto de **cobertura de código** (*test coverage* en Inglés):"
      ]
    },
    {
      "cell_type": "markdown",
      "source": [
        "En el siguiente ejemplo, \"ever or odd\" (par o impar) ¿Por qué la cobertura de código no es del 100%?"
      ],
      "metadata": {
        "id": "LVxRIkdm1aSQ"
      }
    },
    {
      "cell_type": "markdown",
      "source": [
        "La cobertura de código es una métrica que nos indica el porcentage de nuestro código que se ejecuta al realizar los tests. Esta métrica es útil porque nos ayuda a identificar partes del código que no estén siendo vertificadas y puedan contener errores. En el siguiente ejemplo, la cobertura no sería del 100% porque no se comprueban, por ejemplo, los casos en los que el número sea par o en los que no sea un entero. Al implementar estos tests, nos damos cuenta de que la función no es correcta ya que no se comprueba si el número es entero o decimal. Cuando se introduce un número decimal, independientemente del número, como la operación módulo es diferente a 0, siempre se devuelve que el número es impar, lo cual es incorrecto."
      ],
      "metadata": {
        "id": "BrYqh1AsHjXJ"
      }
    },
    {
      "cell_type": "markdown",
      "source": [
        "Implementa los tests necesarios para que la cobertura sea del 100%:"
      ],
      "metadata": {
        "id": "mOp-yjnE2_SY"
      }
    },
    {
      "cell_type": "code",
      "source": [
        "import unittest\n",
        "import sys\n",
        "\n",
        "def  even_or_odd(int_number):\n",
        "  try:\n",
        "    if int_number % 2 == 0:\n",
        "      return(\"The number is even\")\n",
        "    else:\n",
        "      return(\"The number is odd\")\n",
        "  except:\n",
        "    raise ValueError(\"The input is not an integer number!!!\")\n",
        "\n",
        "# Tests\n",
        "class TestEvenOrOdd(unittest.TestCase):\n",
        "\n",
        "    # Test para probar número impar\n",
        "    def test_odd(self):\n",
        "        result = even_or_odd(3)\n",
        "        self.assertEqual(result, \"The number is odd\")\n",
        "\n",
        "    # Test para probar número par\n",
        "    def test_even(self):\n",
        "        result = even_or_odd(2)\n",
        "        self.assertEqual(result, \"The number is even\")\n",
        "\n",
        "    # Test para probar número no entero\n",
        "    def test_not_integer(self):\n",
        "        with self.assertRaises(ValueError):\n",
        "            even_or_odd(3.5)\n",
        "\n",
        "    # Test para probar un input que no es un número\n",
        "    def test_not_number(self):\n",
        "        with self.assertRaises(ValueError):\n",
        "            even_or_odd(\"hola\")\n",
        "\n",
        "    # Test para probar un número entero negativo\n",
        "    def test_negative_number(self):\n",
        "        result = even_or_odd(-2)\n",
        "        self.assertEqual(result, \"The number is even\")\n",
        "\n",
        "if __name__ == '__main__':\n",
        "    suite = unittest.TestLoader().loadTestsFromTestCase( TestEvenOrOdd )\n",
        "    unittest.TextTestRunner(verbosity=1,stream=sys.stderr).run( suite )"
      ],
      "metadata": {
        "id": "NvMFmYqe2bK9",
        "colab": {
          "base_uri": "https://localhost:8080/"
        },
        "outputId": "fe2a4655-80ae-4b93-f434-0c580bc7128f"
      },
      "execution_count": null,
      "outputs": [
        {
          "output_type": "stream",
          "name": "stderr",
          "text": [
            "..F..\n",
            "======================================================================\n",
            "FAIL: test_not_integer (__main__.TestEvenOrOdd)\n",
            "----------------------------------------------------------------------\n",
            "Traceback (most recent call last):\n",
            "  File \"<ipython-input-6-23cd2ea75ef9>\", line 28, in test_not_integer\n",
            "    with self.assertRaises(ValueError):\n",
            "AssertionError: ValueError not raised\n",
            "\n",
            "----------------------------------------------------------------------\n",
            "Ran 5 tests in 0.016s\n",
            "\n",
            "FAILED (failures=1)\n"
          ]
        }
      ]
    },
    {
      "cell_type": "markdown",
      "metadata": {
        "id": "w83UjMP5TLDB"
      },
      "source": [
        "### Ejercicio 1 **<font color=\"green\" size=\"+2\">MU</font>**\n",
        "\n",
        "**Hablamos de tests en verde cuando todos nuestros tests se ejecutan correctamente y dan el resultado esperado y tests en rojo en caso contrario.**\n",
        "\n",
        "En el siguiente ejercicio, escribe el código necesario que haga cumplir todos los tests, es decir, que los tests estén *en verde* **sin modificar en ningún momento la parte correspondiente al código de los tests** (`class MathOperations`)."
      ]
    },
    {
      "cell_type": "code",
      "execution_count": 7,
      "metadata": {
        "id": "QDQrn9PJTLDC",
        "colab": {
          "base_uri": "https://localhost:8080/"
        },
        "outputId": "3839cedc-1980-44c6-e8f2-bd99a91fb7ee"
      },
      "outputs": [
        {
          "output_type": "stream",
          "name": "stderr",
          "text": [
            "......\n",
            "----------------------------------------------------------------------\n",
            "Ran 6 tests in 0.012s\n",
            "\n",
            "OK\n"
          ]
        }
      ],
      "source": [
        "import unittest\n",
        "import sys\n",
        "\n",
        "class MathOperations:\n",
        "    \"\"\"Clase que realiza operaciones matemáticas básicas.\"\"\"\n",
        "\n",
        "    def __init__(self, num1, num2):\n",
        "        \"\"\"Inicializa el objeto con dos números.\"\"\"\n",
        "        self.num1 = num1\n",
        "        self.num2 = num2\n",
        "\n",
        "    def add(self):\n",
        "        \"\"\"Retorna la suma de los dos números.\"\"\"\n",
        "        return self.num1 + self.num2\n",
        "\n",
        "    def subtract(self):\n",
        "        \"\"\"Retorna la resta del segundo número al primero.\"\"\"\n",
        "        return self.num1 - self.num2\n",
        "\n",
        "    def multiply(self):\n",
        "        \"\"\"Retorna el producto de los dos números.\"\"\"\n",
        "        return self.num1 * self.num2\n",
        "\n",
        "    def divide(self):\n",
        "        \"\"\"Retorna la división del primer número entre el segundo.\"\"\"\n",
        "        # Devuelve resultado de la división, excepto en caso de excepción ValueError\n",
        "        try:\n",
        "            return self.num1 / self.num2\n",
        "        except:\n",
        "            raise ValueError\n",
        "\n",
        "# Tests\n",
        "class TestMathOperations(unittest.TestCase):\n",
        "\n",
        "    def test_create_object(self):\n",
        "        math_obj = MathOperations(5, 3)\n",
        "        self.assertIsNotNone(math_obj)\n",
        "\n",
        "    def test_addition(self):\n",
        "        math_obj = MathOperations(5, 3)\n",
        "        self.assertEqual(math_obj.add(), 8)\n",
        "\n",
        "    def test_subtraction(self):\n",
        "        math_obj = MathOperations(5, 3)\n",
        "        self.assertEqual(math_obj.subtract(), 2)\n",
        "\n",
        "    def test_multiplication(self):\n",
        "        math_obj = MathOperations(5, 3)\n",
        "        self.assertEqual(math_obj.multiply(), 15)\n",
        "\n",
        "    def test_division(self):\n",
        "        math_obj = MathOperations(6, 2)\n",
        "        self.assertEqual(math_obj.divide(), 3)\n",
        "\n",
        "    def test_division_by_zero(self):\n",
        "        math_obj = MathOperations(5, 0)\n",
        "        with self.assertRaises(ValueError):\n",
        "            math_obj.divide()\n",
        "\n",
        "if __name__ == '__main__':\n",
        "    suite = unittest.TestLoader().loadTestsFromTestCase(TestMathOperations)\n",
        "    unittest.TextTestRunner(verbosity=1, stream=sys.stderr).run(suite)"
      ]
    },
    {
      "cell_type": "markdown",
      "source": [
        "\n",
        "### Ejercicio 2 **<font color=\"blue\" size=\"+2\">EG</font>**\n",
        "\n",
        "Dada la siguiente función que calcula el factorial de un número entero, escribe el código necesario para realizar pruebas de código usando `doctest`:\n",
        "\n"
      ],
      "metadata": {
        "id": "FqCwiwYVN-jk"
      }
    },
    {
      "cell_type": "code",
      "source": [
        "import math\n",
        "\n",
        "def factorial(n):\n",
        "    \"\"\"Devuelve el factorial de n, un numero entero >= 0\n",
        "\n",
        "    Test con valor 0:\n",
        "    >>> factorial(0)\n",
        "    1\n",
        "\n",
        "    Test con número entero negativo:\n",
        "    >>> factorial(-2)\n",
        "    Traceback (most recent call last):\n",
        "        ...\n",
        "    ValueError: n debe ser >= 0\n",
        "\n",
        "    Test con número entero positivo:\n",
        "    >>> factorial(3)\n",
        "    6\n",
        "\n",
        "    Test con número con decimales:\n",
        "    >>> factorial(0.5)\n",
        "    Traceback (most recent call last):\n",
        "        ...\n",
        "    ValueError: n tiene que se un numero entero\n",
        "\n",
        "    Test con número muy grande:\n",
        "    >>> factorial(1e200)\n",
        "    Traceback (most recent call last):\n",
        "        ...\n",
        "    OverflowError: n es demasiado grande\n",
        "\n",
        "    \"\"\"\n",
        "\n",
        "    if not n >= 0:\n",
        "        raise ValueError(\"n debe ser >= 0\")\n",
        "\n",
        "    if math.floor(n) != n:\n",
        "        raise ValueError(\"n tiene que se un numero entero\")\n",
        "\n",
        "    if n+1 == n:  # capturar un valor como 1e50, 1e100,etc\n",
        "        raise OverflowError(\"n es demasiado grande\")\n",
        "\n",
        "    result = 1\n",
        "    factor = 2\n",
        "    while factor <= n:\n",
        "        result *= factor\n",
        "        factor += 1\n",
        "    return result\n",
        "\n",
        "\n",
        "if __name__ == \"__main__\":\n",
        "    import doctest\n",
        "    doctest.run_docstring_examples(factorial, globals(), verbose=True)"
      ],
      "metadata": {
        "id": "d9tqRHHAN-0F",
        "colab": {
          "base_uri": "https://localhost:8080/"
        },
        "outputId": "1ada86b8-e95b-46d3-c1b4-5f743254fbfe"
      },
      "execution_count": 8,
      "outputs": [
        {
          "output_type": "stream",
          "name": "stdout",
          "text": [
            "Finding tests in NoName\n",
            "Trying:\n",
            "    factorial(0)\n",
            "Expecting:\n",
            "    1\n",
            "ok\n",
            "Trying:\n",
            "    factorial(-2)\n",
            "Expecting:\n",
            "    Traceback (most recent call last):\n",
            "        ...\n",
            "    ValueError: n debe ser >= 0\n",
            "ok\n",
            "Trying:\n",
            "    factorial(3)\n",
            "Expecting:\n",
            "    6\n",
            "ok\n",
            "Trying:\n",
            "    factorial(0.5)\n",
            "Expecting:\n",
            "    Traceback (most recent call last):\n",
            "        ...\n",
            "    ValueError: n tiene que se un numero entero\n",
            "ok\n",
            "Trying:\n",
            "    factorial(1e200)\n",
            "Expecting:\n",
            "    Traceback (most recent call last):\n",
            "        ...\n",
            "    OverflowError: n es demasiado grande\n",
            "ok\n"
          ]
        }
      ]
    },
    {
      "cell_type": "markdown",
      "metadata": {
        "id": "5XnpyhVCTLDE"
      },
      "source": [
        "### Ejercicio 3 **<font color=\"gold\" size=\"+2\">CI</font>**\n",
        "\n",
        "Escribe una función multiplicacion de elementos y escribe algunas pruebas de código utilizando **doctest y unittest**:\n",
        "\n",
        "Ej: la lista [2,3,4] tiene como resultado 2x3x4=24"
      ]
    },
    {
      "cell_type": "code",
      "execution_count": 9,
      "metadata": {
        "id": "r5N-27Q6TLDF",
        "colab": {
          "base_uri": "https://localhost:8080/"
        },
        "outputId": "6b887be1-1ada-4bb0-ad20-efdc06fce3fe"
      },
      "outputs": [
        {
          "output_type": "stream",
          "name": "stdout",
          "text": [
            "Finding tests in NoName\n",
            "Trying:\n",
            "    multiply_elements([])\n",
            "Expecting:\n",
            "    1\n",
            "ok\n",
            "Trying:\n",
            "    multiply_elements([2,5,0])\n",
            "Expecting:\n",
            "    0\n",
            "ok\n",
            "Trying:\n",
            "    multiply_elements([2,-2])\n",
            "Expecting:\n",
            "    -4\n",
            "ok\n",
            "Trying:\n",
            "    multiply_elements([2,3,4])\n",
            "Expecting:\n",
            "    24\n",
            "ok\n",
            "Trying:\n",
            "    multiply_elements([\"hola\", \"adios\"])\n",
            "Expecting:\n",
            "    Traceback (most recent call last):\n",
            "        ...\n",
            "    TypeError: can't multiply sequence by non-int of type 'str'\n",
            "ok\n"
          ]
        }
      ],
      "source": [
        "import doctest\n",
        "\n",
        "def multiply_elements(lst):\n",
        "\n",
        "    \"\"\"\n",
        "    Multiplica los elementos de la lista.\n",
        "\n",
        "    # Test para probar lista vacía\n",
        "    >>> multiply_elements([])\n",
        "    1\n",
        "\n",
        "    # Test para probar lista con elemento 0\n",
        "    >>> multiply_elements([2,5,0])\n",
        "    0\n",
        "\n",
        "    # Test para probar lista con números enteros positivos y negativos\n",
        "    >>> multiply_elements([2,-2])\n",
        "    -4\n",
        "\n",
        "    # Test con lista con números enteros positivos\n",
        "    >>> multiply_elements([2,3,4])\n",
        "    24\n",
        "\n",
        "    # Test para probar lista con strings\n",
        "    >>> multiply_elements([\"hola\", \"adios\"])\n",
        "    Traceback (most recent call last):\n",
        "        ...\n",
        "    TypeError: can't multiply sequence by non-int of type 'str'\n",
        "\n",
        "    \"\"\"\n",
        "\n",
        "    result = 1\n",
        "\n",
        "    for elemento in lst:\n",
        "        result *= elemento\n",
        "\n",
        "    return result\n",
        "\n",
        "if __name__ == '__main__':\n",
        "    doctest.run_docstring_examples(multiply_elements, globals(), verbose=True)\n"
      ]
    },
    {
      "cell_type": "code",
      "source": [
        "import unittest\n",
        "import sys\n",
        "\n",
        "def multiply_elements(lst):\n",
        "    \"\"\"Multiplica los elementos de una lista\"\"\"\n",
        "\n",
        "    result = 1\n",
        "\n",
        "    for elemento in lst:\n",
        "        result *= elemento\n",
        "\n",
        "    return result\n",
        "\n",
        "class TestMultiplyElements(unittest.TestCase):\n",
        "\n",
        "    # Tests para comprobar lista con números positivos o negativos, o valor cero\n",
        "    def test_multiply_elements(self):\n",
        "        self.assertEqual(multiply_elements([2,5,0]), 0)\n",
        "        self.assertEqual(multiply_elements([2,-2]), -4)\n",
        "        self.assertEqual(multiply_elements([2,3,4]), 24)\n",
        "\n",
        "    # Test para probar lista vacía\n",
        "    def test_multiply_empty_list(self):\n",
        "        self.assertEqual(multiply_elements([]), 1)\n",
        "\n",
        "    # Test para probar lista con una o dos strings\n",
        "    def test_multiply_string(self):\n",
        "        self.assertEqual(multiply_elements([2, \"hola\"]), \"holahola\")\n",
        "\n",
        "        with self.assertRaises(TypeError):\n",
        "            multiply_elements([\"hola\", \"adios\"])\n",
        "\n",
        "if __name__ == '__main__':\n",
        "    suite = unittest.TestLoader().loadTestsFromTestCase(TestMultiplyElements)\n",
        "    unittest.TextTestRunner(verbosity=1).run(suite)"
      ],
      "metadata": {
        "id": "WuOTgr5wFWCH",
        "colab": {
          "base_uri": "https://localhost:8080/"
        },
        "outputId": "25271e01-93e3-4d1f-a9d8-4274aaa6c529"
      },
      "execution_count": 10,
      "outputs": [
        {
          "output_type": "stream",
          "name": "stderr",
          "text": [
            "...\n",
            "----------------------------------------------------------------------\n",
            "Ran 3 tests in 0.007s\n",
            "\n",
            "OK\n"
          ]
        }
      ]
    },
    {
      "cell_type": "markdown",
      "metadata": {
        "id": "YMwPeYjZTLDF"
      },
      "source": [
        "### Ejercicio 4 **<font color=\"blue\" size=\"+2\">EG</font>**\n",
        "\n",
        "Los cuaterniones (en Inglés *quaternion*) son un tipo matemático que funcionan como extensión de los vectores en espacio 3D añadiendo una dimensión extra, muy utilizados en videojuegos para aplicar rotaciones sobre un conjunto de puntos y que tienen claras ventajas en comparación con las matrices de rotación. Podéis aprender más sobre ellos en la [Wikipedia](https://es.wikipedia.org/wiki/Cuaterni%C3%B3n).\n",
        "\n",
        "A continuación tenéis el código de una clase *Quaternion* que implementa algunas funciones sencillas (suma y resta)."
      ]
    },
    {
      "cell_type": "markdown",
      "source": [
        "Describid con vuestras palabras los tests que implementariais para conseguir una buena cobertura de código:"
      ],
      "metadata": {
        "id": "-DkTPs5L-l_b"
      }
    },
    {
      "cell_type": "markdown",
      "source": [
        "```\n",
        "# Respuesta\n",
        "```\n",
        "\n",
        "Implementaría un test por cada función o unidad de la clase, comprobando la correcta creación y negación de cuaterniones, así como los cálculos e igualdad entre cuaterniones. La forma de comprobar que el cuaternión resultante es el correcto es comprobando, en cada test, las coordenadas w, x, y, y z. Debido a que el uso de números flotantes cuando realizamos cálculos entre cuaterniones puede derivar en números que no son exactamente los que esperamos, definiría un margen de error, y comprobaría los valores resultantes con 'assertAlmostEqual'.\n"
      ],
      "metadata": {
        "id": "QEmhU4cp35sc"
      }
    },
    {
      "cell_type": "markdown",
      "source": [
        "Ahora implemtad en codigo en la siguiente celda los tests que habeis descrito:\n",
        "\n",
        "**Nota: no utilizaremos la versión `q1.__add__(q2)` si no la sobrecarga de función `q1 + q2`.**"
      ],
      "metadata": {
        "id": "k2sS0Ox836Md"
      }
    },
    {
      "cell_type": "code",
      "execution_count": 11,
      "metadata": {
        "id": "XBI_ApvrTLDG",
        "colab": {
          "base_uri": "https://localhost:8080/"
        },
        "outputId": "39fcab6c-b6a6-48a6-c88c-3d3bfeac374a"
      },
      "outputs": [
        {
          "output_type": "stream",
          "name": "stderr",
          "text": [
            ".......\n",
            "----------------------------------------------------------------------\n",
            "Ran 7 tests in 0.017s\n",
            "\n",
            "OK\n"
          ]
        }
      ],
      "source": [
        "import unittest\n",
        "import sys\n",
        "\n",
        "\n",
        "class Quaternion:\n",
        "\n",
        "    def __init__(self, w=1., x=0., y=0., z=0.):\n",
        "        \"\"\"Crea un cuaternión. Devuelve por defecto el cuaternión unitario.\"\"\"\n",
        "        self.w = w\n",
        "        self.x = x\n",
        "        self.y = y\n",
        "        self.z = z\n",
        "\n",
        "    def __neg__(self):\n",
        "        \"\"\"Negación de un cuaternión.\n",
        "\n",
        "        Se llama: q2 = -q1\n",
        "        \"\"\"\n",
        "        return Quaternion(-self.w, -self.x, -self.y, -self.z)\n",
        "\n",
        "    def __add__(self, other):\n",
        "        \"\"\"Implementa la suma de cuaterniones.\n",
        "\n",
        "        Ejemplo:\n",
        "        q1 = Quaternion()\n",
        "        q2 = Quaternion()\n",
        "\n",
        "        q3 = q1 + q2\n",
        "\n",
        "        \"\"\"\n",
        "        return Quaternion(self.w + other.w, self.x + other.x, self.y + other.y, self.z + other.z)\n",
        "\n",
        "    def __sub__(self, other):\n",
        "        \"\"\"Implementa la resta de cuaterniones.\"\"\"\n",
        "        return Quaternion(self.w - other.w, self.x - other.x, self.y - other.y, self.z - other.z)\n",
        "\n",
        "    def __mul__(self, scalar):\n",
        "        \"\"\"Implementa la multiplicación por un escalar.\"\"\"\n",
        "        return Quaternion(self.w * scalar, self.x * scalar, self.y * scalar, self.z * scalar)\n",
        "\n",
        "    def __eq__(self, other):\n",
        "        \"\"\"Implementa la igualdad entre cuaterniones.\"\"\"\n",
        "        return (self.w == other.w) and (self.x == other.x) and (self.y == other.y) and (self.z == other.z)\n",
        "\n",
        "epsilon = 1e-6 # margen error\n",
        "\n",
        "# Tests\n",
        "class TestQuaternion(unittest.TestCase):\n",
        "    \"\"\"Tests for the Quaternion class.\"\"\"\n",
        "\n",
        "    # Test para comprobar inicialización del objeto Cuaternión con valores por defecto\n",
        "    def test_default_quaternion_creation(self):\n",
        "      q = Quaternion()\n",
        "      self.assertEqual(q.w, 1.)\n",
        "      self.assertEqual(q.x, 0.)\n",
        "      self.assertEqual(q.y, 0.)\n",
        "      self.assertEqual(q.z, 0.)\n",
        "\n",
        "    # Test para comprobar inicialización del objeto con valores especificados\n",
        "    def test_quaternion_creation(self):\n",
        "      q = Quaternion(0.1, 0.5, -0.5, 1.0)\n",
        "      self.assertEqual(q.w, 0.1)\n",
        "      self.assertEqual(q.x, 0.5)\n",
        "      self.assertEqual(q.y, -0.5)\n",
        "      self.assertEqual(q.z, 1.0)\n",
        "\n",
        "    # Test para comprobar negación del cuaternión\n",
        "    def test_negation(self):\n",
        "      q = Quaternion(0.1, 0.5, -0.5, 1.0)\n",
        "      negq = -q\n",
        "      self.assertEqual(negq.w, -0.1)\n",
        "      self.assertEqual(negq.x, -0.5)\n",
        "      self.assertEqual(negq.y, 0.5)\n",
        "      self.assertEqual(negq.z, -1.0)\n",
        "\n",
        "    # Test para comprobar suma de cuaterniones\n",
        "    def test_addition(self):\n",
        "      q1 = Quaternion(0.1, 0.5, -0.5, 1.0)\n",
        "      q2 = Quaternion(0.2, -0.5, -0.4, 2.0)\n",
        "\n",
        "      q3 = q1 + q2\n",
        "\n",
        "      self.assertAlmostEqual(q3.w, 0.3, delta = epsilon)\n",
        "      self.assertAlmostEqual(q3.x, 0., delta = epsilon)\n",
        "      self.assertAlmostEqual(q3.y, -0.9, delta = epsilon)\n",
        "      self.assertAlmostEqual(q3.z, 3.0, delta = epsilon)\n",
        "\n",
        "    # Test para comprobar resta de cuaterniones\n",
        "    def test_subtraction(self):\n",
        "      q1 = Quaternion(0.1, 0.5, -0.5, 1.0)\n",
        "      q2 = Quaternion(0.2, -0.5, -0.4, 2.0)\n",
        "\n",
        "      q3 = q1 - q2\n",
        "\n",
        "      self.assertAlmostEqual(q3.w, -0.1, delta = epsilon)\n",
        "      self.assertAlmostEqual(q3.x, 1.0, delta = epsilon)\n",
        "      self.assertAlmostEqual(q3.y, -0.1, delta = epsilon)\n",
        "      self.assertAlmostEqual(q3.z, -1.0, delta = epsilon)\n",
        "\n",
        "    # Test para comprobar producto de un cuaternión por un escalar\n",
        "    def test_multiplication_by_scalar(self):\n",
        "      q1 = Quaternion(0.1, 0.5, -0.5, 1.0)\n",
        "\n",
        "      q2 = q1 * 5.0\n",
        "\n",
        "      self.assertAlmostEqual(q2.w, 0.5, delta = epsilon)\n",
        "      self.assertAlmostEqual(q2.x, 2.5, delta = epsilon)\n",
        "      self.assertAlmostEqual(q2.y, -2.5, delta = epsilon)\n",
        "      self.assertAlmostEqual(q2.z, 5.0, delta = epsilon)\n",
        "\n",
        "    # Test para comprobar si dos cuaterniones son iguales\n",
        "    def test_equality(self):\n",
        "      q1 = Quaternion(0.1, 0.5, -0.5, 1.0)\n",
        "      q2 = Quaternion(0.1, 0.5, -0.5, 1.0)\n",
        "\n",
        "      self.assertEqual(q1, q2)\n",
        "\n",
        "if __name__ == '__main__':\n",
        "    suite = unittest.TestLoader().loadTestsFromTestCase(TestQuaternion)\n",
        "    unittest.TextTestRunner(verbosity=1, stream=sys.stderr).run(suite)"
      ]
    },
    {
      "cell_type": "markdown",
      "source": [
        "### Ejercicio 5 **<font color=\"blue\" size=\"+2\">EG</font>**\n",
        "\n",
        "**Importante: este ejercicio puntúa el doble comparado con el resto de ejercicios.**\n",
        "\n",
        "Define una nueva clase de nombre `Peptide` que represente una cadena de aminoácidos.\n",
        "\n",
        "Estos aminoácidos, representados por el código de una letra, solo podrán ser del tipo estándar (solo hay 20 tipos estándar), ver lista a continuación:\n",
        "\n",
        "* Alanine - A\n",
        "* Arginine - R\n",
        "* Asparagine - N\n",
        "* Aspartic Acid - D\n",
        "* Cysteine - C\n",
        "* Glutamine - Q\n",
        "* Glutamic Acid - E\n",
        "* Glycine - G\n",
        "* Histidine - H\n",
        "* Isoleucine - I\n",
        "* Leucine - L\n",
        "* Lysine - K\n",
        "* Methionine - M\n",
        "* Phenylalanine - F\n",
        "* Proline - P\n",
        "* Serine - S\n",
        "* Threonine - T\n",
        "* Tryptophan - W\n",
        "* Tyrosine - Y\n",
        "* Valine - V\n",
        "\n",
        "Por ejemplo, el péptido de cadena `PPSSTY` sería correcto, mientras que `PPXDNR` no lo sería puesto que X no es un código válido de aminoácido.\n",
        "\n",
        "Define un método que representa la concatenación de dos péptidos. Por ejemplo, dados los péptidos `ARARAR` y `TGGG`, la concatenación de ambos péptidos sería `ARARARTGGG`.\n",
        "\n",
        "Define otro método que añada una cadena final de histidinas, de nombre `polyh` y cuyo argumento sea el número de histidinas a añadir. Por ejemplo:\n",
        "\n",
        "`polyh(\"ARTART\", 5) -> ARTARTHHHHH`\n"
      ],
      "metadata": {
        "id": "wEtqNSH6VkpT"
      }
    },
    {
      "cell_type": "markdown",
      "source": [
        "Describe con tus propias palabras los casos de test que implementarias:"
      ],
      "metadata": {
        "id": "3-rbQ3Bn49M2"
      }
    },
    {
      "cell_type": "markdown",
      "source": [
        "\n",
        "```\n",
        "# Respuesta\n",
        "```\n",
        "\n",
        "Implementaría tests para comprobar cada una de las funciones: inicialización de los objetos, concatenación de péptidos y adición de cola polyh. Para ello, por cada test, habría que crear un objeto Peptido (por ejemplo, \"Peptido1\") para la inicialización, y dos objetos (por ejemplo, \"Peptido1\" y \"Peptido2\"), para la concatenación y la adición de polyh. Para inicializar el objeto, se llama a la clase y se especifica la secuencia. Después, con 'assertEqual', comprobamos que el resultado de los métodos es el deseado. También, se puede comprobar con 'assertRaises' que efectivamente se lanza una excepción cuando introducimos un tipo de dato que no es correcto, como un número flotante al especificar número de histidinas.\n",
        "\n"
      ],
      "metadata": {
        "id": "bAFgrUGE5JTI"
      }
    },
    {
      "cell_type": "markdown",
      "source": [
        "Finalmente, implementa en código la clase, las funciones y los tests. Utiliza el ejercicio 3 como plantilla para tu solución:"
      ],
      "metadata": {
        "id": "VHrAobGg5kru"
      }
    },
    {
      "cell_type": "code",
      "source": [
        "import unittest\n",
        "import sys\n",
        "\n",
        "# Creamos la clase Peptide\n",
        "class Peptide:\n",
        "    \"\"\"Clase que crea péptidos y realiza modificaciones sobre ellos.\"\"\"\n",
        "\n",
        "    def __init__(self, sequence):\n",
        "        \"\"\"Método constructor que crea un objeto con la cadena peptídica.\"\"\"\n",
        "        string_aminoacidos = \"ARNDCQEGHILKMFPSTWYV\"\n",
        "\n",
        "        \"\"\"Concatenamos aminoácido tras comprobar que se encuentra en la string de aminoácidos.\"\"\"\n",
        "        self.sequence = ''.join(Aa for Aa in sequence if Aa in string_aminoacidos)\n",
        "\n",
        "    def concatenar(self, peptide2):\n",
        "        \"\"\"Retorna la concatenación de los dos péptidos.\"\"\"\n",
        "        return self.sequence + peptide2.sequence\n",
        "\n",
        "    def polyh(self, num_H):\n",
        "        \"\"\"Retorna el péptido con una cadena final de histidinas.\"\"\"\n",
        "        return self.sequence +  'H' * num_H\n",
        "\n",
        "    def __str__(self):\n",
        "        \"\"\"Método que proporciona una representación de la cadena peptídica.\"\"\"\n",
        "        return self.sequence\n",
        "\n",
        "# Tests\n",
        "class TestPeptide(unittest.TestCase):\n",
        "\n",
        "    # Test para comprobar inicialización del objeto Peptido\n",
        "    def test_creacion_peptido(self):\n",
        "        Peptido1 = Peptide('ARNILK')\n",
        "        self.assertEqual(Peptido1.sequence, 'ARNILK')\n",
        "\n",
        "        Peptido2 = Peptide('PPXDNR')\n",
        "\n",
        "    # Test para probar concatenación de dos objetos Peptido\n",
        "    def test_concatenar_peptido(self):\n",
        "        Peptido1 = Peptide('ARARAR')\n",
        "        Peptido2 = Peptide('TGGG')\n",
        "\n",
        "        self.assertEqual(Peptido1.concatenar(Peptido2), 'ARARARTGGG')\n",
        "\n",
        "    # Test para probar la adición de una cola polyh a un objeto Peptido\n",
        "    def test_polyh(self):\n",
        "        Peptido1 = Peptide('ARNILK')\n",
        "\n",
        "        self.assertEqual(Peptido1.polyh(5), 'ARNILKHHHHH')\n",
        "\n",
        "        # Comprobamos que se lanza la excepción TypeError al no especificar un entero\n",
        "        with self.assertRaises(TypeError):\n",
        "            Peptido1.polyh(3.5)\n",
        "\n",
        "if __name__ == '__main__':\n",
        "    suite = unittest.TestLoader().loadTestsFromTestCase(TestPeptide)\n",
        "    unittest.TextTestRunner(verbosity=1).run(suite)\n",
        "\n",
        "# Creamos un objeto Peptido con la secuencia 'ARNILK'\n",
        "Peptido1 = Peptide('ARNILK')\n",
        "\n",
        "# Imprimimos resultado de añadir cola polyh con 5 histidinas al péptido\n",
        "print(Peptido1.polyh(5))\n"
      ],
      "metadata": {
        "id": "etmBw_rnVwod",
        "colab": {
          "base_uri": "https://localhost:8080/"
        },
        "outputId": "08dd065a-8ffb-4c99-ad06-6e89e4f83887"
      },
      "execution_count": 15,
      "outputs": [
        {
          "output_type": "stream",
          "name": "stderr",
          "text": [
            "...\n",
            "----------------------------------------------------------------------\n",
            "Ran 3 tests in 0.009s\n",
            "\n",
            "OK\n"
          ]
        },
        {
          "output_type": "stream",
          "name": "stdout",
          "text": [
            "ARNILKHHHHH\n"
          ]
        }
      ]
    }
  ],
  "metadata": {
    "kernelspec": {
      "display_name": "Python 3",
      "language": "python",
      "name": "python3"
    },
    "language_info": {
      "codemirror_mode": {
        "name": "ipython",
        "version": 3
      },
      "file_extension": ".py",
      "mimetype": "text/x-python",
      "name": "python",
      "nbconvert_exporter": "python",
      "pygments_lexer": "ipython3",
      "version": "3.8.8"
    },
    "colab": {
      "provenance": []
    }
  },
  "nbformat": 4,
  "nbformat_minor": 0
}
